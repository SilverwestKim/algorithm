{
 "cells": [
  {
   "cell_type": "markdown",
   "metadata": {},
   "source": [
    "##### 1. 처음 했던 거 ; 시간이 너무 오래 걸림. "
   ]
  },
  {
   "cell_type": "code",
   "execution_count": null,
   "metadata": {
    "collapsed": true
   },
   "outputs": [],
   "source": [
    "def solution(A):\n",
    "    for k in list(set(A)):\n",
    "        if len([i for i,x in enumerate(A) if x==k])%2!=0:\n",
    "            return(k)"
   ]
  },
  {
   "cell_type": "markdown",
   "metadata": {},
   "source": [
    "##### 2. 두 번째 꺼; 시간이 역시나 오래 걸림 . 이걸로 해결할 수 있는 time out error가 아닌가 봄."
   ]
  },
  {
   "cell_type": "code",
   "execution_count": 15,
   "metadata": {},
   "outputs": [],
   "source": [
    "def solution(A):\n",
    "    B=list(set(A))\n",
    "    l=[]\n",
    "    for k in B:\n",
    "        l.append(len([i for i,x in enumerate(A) if x==k]))\n",
    "    return(B[l.index(1)])"
   ]
  },
  {
   "cell_type": "markdown",
   "metadata": {},
   "source": [
    "##### 3. 세 번째 꺼  ; 얘도 역시 시간이 오래 걸리넹 ㅜㅜㅜㅜ "
   ]
  },
  {
   "cell_type": "code",
   "execution_count": 25,
   "metadata": {
    "collapsed": true
   },
   "outputs": [],
   "source": [
    "def solution(A):\n",
    "    B=list(set(A))\n",
    "    for i in B:\n",
    "        A.remove(i)\n",
    "    for j in A:\n",
    "        B.remove(j)\n",
    "    if len(B)==0:\n",
    "        return()\n",
    "    return(B[0])\n",
    "    "
   ]
  },
  {
   "cell_type": "markdown",
   "metadata": {},
   "source": [
    "##### 4. 네 번째 거; 딕셔너리를 써 보자!"
   ]
  },
  {
   "cell_type": "code",
   "execution_count": 27,
   "metadata": {
    "collapsed": true
   },
   "outputs": [],
   "source": [
    "def solution(A):\n",
    "    B={}\n",
    "    for i in A:\n",
    "        try: B[i] += 1\n",
    "        except : B[i] = 1\n",
    "    for k,v in B.items():\n",
    "        if v%2 !=0:\n",
    "            return(k)"
   ]
  },
  {
   "cell_type": "markdown",
   "metadata": {},
   "source": [
    "#### 성공!!!!"
   ]
  },
  {
   "cell_type": "code",
   "execution_count": 30,
   "metadata": {},
   "outputs": [],
   "source": [
    "A=[9,3,5,3,9,7,3,9,3,9,5]"
   ]
  },
  {
   "cell_type": "code",
   "execution_count": 31,
   "metadata": {},
   "outputs": [
    {
     "data": {
      "text/plain": [
       "7"
      ]
     },
     "execution_count": 31,
     "metadata": {},
     "output_type": "execute_result"
    }
   ],
   "source": [
    "solution(A)"
   ]
  }
 ],
 "metadata": {
  "kernelspec": {
   "display_name": "Python 3",
   "language": "python",
   "name": "python3"
  },
  "language_info": {
   "codemirror_mode": {
    "name": "ipython",
    "version": 3
   },
   "file_extension": ".py",
   "mimetype": "text/x-python",
   "name": "python",
   "nbconvert_exporter": "python",
   "pygments_lexer": "ipython3",
   "version": "3.6.3"
  }
 },
 "nbformat": 4,
 "nbformat_minor": 2
}
